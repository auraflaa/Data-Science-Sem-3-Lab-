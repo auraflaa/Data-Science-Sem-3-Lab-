{
 "cells": [
  {
   "cell_type": "markdown",
   "metadata": {},
   "source": [
    "# Descriptive Statistics \n",
    "\n",
    "\n",
    "**Descriptive Statistics** is the subject matter of this project. Descriptive statistics gives us the basic summary measures about the dataset.  The summary measures include measures of central tendency (mean, median and mode) and measures of variability (variance, standard deviation, minimum/maximum values, IQR (Interquartile Range), skewness and kurtosis). Data set  used in the lab is  fortune 500 dataset from the data world website for this project."
   ]
  },
  {
   "cell_type": "markdown",
   "metadata": {},
   "source": [
    "## Table of Contents\n",
    "\n",
    "\n",
    "1.\tIntroduction to descriptive statistics\n",
    "2.\tMeasures of central tendency\n",
    "    -\tMean\n",
    "    -\tMedian\n",
    "    -\tMode\n",
    "3.\tMeasures of dispersion\n",
    "    -\tVariance\n",
    "    -\tStandard deviation\n",
    "    -\tCoefficient of variation\n",
    "    -\tIQR (Interquartile range)\n",
    "    -\tSkewness\n",
    "    -\tKurtosis\n",
    "4.\tDataset description\n",
    "5.\tImport libraries\n",
    "6.\tImport dataset\n",
    "7.\tExploratory data analysis\n",
    "8.\tDescriptive statistics with `describe()` function\n",
    "    -\tSummary statistics of numerical columns\n",
    "    -\tSummary statistics of character columns\n",
    "    -\tSummary statistics of all the columns\n",
    "9.\tComputation of measures of central tendency\n",
    "    -\tMean\n",
    "    -\tMedian\n",
    "    -\tMode\n",
    "10.\tComputation of measures of dispersion or variability\n",
    "    -\tMinimum and maximum values\n",
    "    -\tRange\n",
    "    -\tVariance\n",
    "    -\tStandard deviation\n",
    "    -\tMedian\n",
    "    -\tInterquartile Range\n",
    "11.\tComputation of measures of shape of distribution\n",
    "    -\tSkewness\n",
    "    -\tKurtosis\n",
    "12.\tResults and conclusion\n",
    "\n"
   ]
  },
  {
   "cell_type": "markdown",
   "metadata": {},
   "source": [
    "## 1. Introduction to descriptive statistics\n",
    "\n",
    "\n",
    "Descriptive statistics are numbers that are used to describe and summarize the data. They are used to describe the basic features of the data under consideration. They provide simple summary measures which give an overview of the dataset. Summary measures that are commonly used to describe a data set are measures of central tendency and measures of variability or dispersion. \n",
    "\n",
    "\n",
    "Measures of central tendency include the `mean`, `median` and `mode`. These measures summarize a given data set by providing a single data point. These measures describe the center position of a distribution for a data set. We analyze the frequency of each data point in the distribution and describes it using the mean, median or mode. They provide the average of a data set. They can be either a representation of entire population or a sample of the population.\n",
    "\n",
    "\n",
    "Measures of variability or dispersion include the `variance` or `standard deviation`, `coefficient of variation`,  `minimum` and `maximum` values, `IQR (Interquartile Range)`,  `skewness and `kurtosis`. These measures help us to analyze how spread-out the distribution is for a dataset. So, they provide the shape of the data set.\n"
   ]
  },
  {
   "cell_type": "markdown",
   "metadata": {},
   "source": [
    "## 2. Measures of central tendency\n",
    "\n",
    "\n",
    "**Central tendency** means a central value which describe a probability distribution. It may also be called a center or location of the distribution. The most common measures of central tendency are **mean**, **median** and **mode**. The most common measure of central tendency is the **mean**. For skewed distribution or when there is concern about outliers, the **median** may be preferred. So, median is more robust measure than the mean.\n",
    "\n",
    "\n",
    "\n",
    "### Mean\n",
    "\n",
    "- The most common measure of central tendency is the mean.\n",
    "- Mean is also known as the simple average.\n",
    "- It is denoted by greek letter µ for population and by ¯x for sample.\n",
    "- We can find mean of a number of elements by adding all the elements in a dataset and then dividing by the number of elements  in the dataset.\n",
    "- It is the most common measure of central tendency but it has a drawback.\n",
    "- The mean is affected by the presence of outliers.\n",
    "- So, mean alone is not enough for making business decisions.\n",
    "\n",
    "\n",
    "### Median\n",
    "\n",
    "- Median is the number which divides the dataset into two equal halves.\n",
    "- To calculate the median, we have to arrange our dataset of n numbers in ascending order.\n",
    "- The median of this dataset is the number at (n+1)/2 th position, if n is odd.\n",
    "- If n is even, then the median is the average of the (n/2)th number and (n+2)/2 th number.\n",
    "- Median is robust to outliers.\n",
    "- So, for skewed distribution or when there is concern about outliers, the median may be preferred.\n",
    "\n",
    "\n",
    "### Mode\n",
    "\n",
    "- Mode of a dataset is the value that occurs most often in the dataset.\n",
    "- Mode is the value that has the highest frequency of occurrence in the dataset.\n",
    "\n",
    "\n",
    "There is no best measure that give us the complete picture. So, these measures of central tendency (mean, median and mode) should be used together to represent the full picture. \n",
    "\n"
   ]
  },
  {
   "cell_type": "markdown",
   "metadata": {},
   "source": [
    "## 3. Measures of dispersion or variability\n",
    "\n",
    "\n",
    "**Dispersion** is an indicator of how far away from the center, we can find the data values. The most common measures of dispersion are **variance**, **standard deviation** and **interquartile range (IQR)**. **Variance** is the standard measure of spread. The **standard deviation** is the square root of the variance. The **variance** and **standard deviation** are two useful measures of spread. \n",
    "\n",
    "\n",
    "\n",
    "### Variance\n",
    "\n",
    "-\tVariance measures the dispersion of a set of data points around their mean value.\n",
    "-\tIt is the mean of the squares of the individual deviations.\n",
    "-\tVariance gives results in the original units squared.\n",
    "\n",
    "\n",
    "\n",
    "### Standard deviation\n",
    "\n",
    "-\tStandard deviation is the most common used measure of variability.\n",
    "-\tIt is the square-root of the variance.\n",
    "-\tFor Normally distributed data, approximately 95% of the values lie within 2 s.d. of the mean. \n",
    "-\tStandard deviation gives results in the original units.\n",
    "\n",
    "\n",
    "### Coefficient of Variation (CV)\n",
    "\n",
    "-\tCoefficient of Variation (CV) is equal to the standard deviation divided by the mean.\n",
    "-\tIt is also known as `relative standard deviation`.\n",
    "\n",
    "\n",
    "### IQR (Interquartile range)\n",
    "\n",
    "-\tA third measure of spread is the **interquartile range (IQR)**.\n",
    "-\tThe IQR is calculated using the boundaries of data situated between the 1st and the 3rd quartiles. \n",
    "-\tThe interquartile range (IQR) can be calculated as follows:-\n",
    "       IQR = Q3 – Q1\n",
    "-\tIn the same way that the median is more robust than the mean, the IQR is a more robust measure of spread than variance and standard deviation and should therefore be preferred for small or asymmetrical distributions. \n",
    "-\tIt is a robust measure of spread.\n",
    "\n",
    "\n",
    "\n",
    "### Measures of shape\n",
    "\n",
    "Now, we will take a look at measures of shape of distribution. There are two statistical measures that can tell us about the shape of the distribution. These measures are **skewness** and **kurtosis**. These measures can be used to convey information about the shape of the distribution of the dataset.\n",
    "\n",
    "\n",
    "### Skewness\n",
    "-\t**Skewness** is a measure of a distribution's symmetry or more precisely lack of symmetry. \n",
    "-\tIt is used to mean the absence of symmetry from the mean of the dataset. \n",
    "-\tIt is a characteristic of the deviation from the mean. \n",
    "-\tIt is used to indicate the shape of the distribution of data.\n",
    "\n",
    "\n",
    "#### Negative skewness\n",
    "\n",
    "-\tNegative values for skewness indicate negative skewness. \n",
    "-\tIn this case, the data are skewed or tail to left. \n",
    "-\tBy skewed left, we mean that the left tail is long relative to the right tail. \n",
    "-\tThe data values may extend further to the left but concentrated in the right. \n",
    "-\tSo, there is a long tail and distortion is caused by extremely small values which pull the mean downward so that it is less than the median. \n",
    "-\tHence, in this case we have\n",
    "      **Mean < Median < Mode**\n",
    "      \n",
    "\n",
    "#### Zero skewness\n",
    "\n",
    "-\tZero skewness means skewness value of zero. \n",
    "-\tIt means the dataset is symmetrical. \n",
    "-\tA data set is symmetrical if it looks the same to the left and right to the center point. \n",
    "-\tThe dataset looks bell shaped or symmetrical. \n",
    "-\tA perfectly symmetrical data set will have a skewness of zero. \n",
    "-\tSo, the normal distribution which is perfectly symmetrical has a skewness of 0. \n",
    "-\tSo, in this case, we have\n",
    "      **Mean = Median = Mode**\n",
    "      \n",
    "\n",
    "#### Positive skewness\n",
    "\n",
    "-\tPositive values for skewness indicate positive skewness. \n",
    "-\tThe dataset are skewed or tail to right. \n",
    "-\tBy skewed right, we mean that the right tail is long relative to the left tail. \n",
    "-\tThe data values are concentrated in the right. \n",
    "-\tSo, there is a long tail to the right that is caused by extremely large values which pull the mean upward so that it is greater than the median. \n",
    "-\tSo, we have\n",
    "       **Mean > Median > Mode**\n",
    "       \n",
    "\n",
    "#### Reference range on skewness values\n",
    "\n",
    "The rule of thumb for skewness values are:\n",
    "\n",
    "-\tIf the skewness is between -0.5 and 0.5, the data are fairly symmetrical.\n",
    "-\tIf the skewness is between -1 and – 0.5 or between 0.5 and 1, the data are moderately skewed.\n",
    "-\tIf the skewness is less than -1 or greater than 1, the data are highly skewed.\n",
    "\n",
    "\n",
    "### Kurtosis\n",
    "\n",
    "-\tKurtosis is the degree of peakedness of a distribution. \n",
    "-\tData sets with high kurtosis tend to have a distinct peak near the mean, decline rather rapidly and have heavy tails.\n",
    "-\tData sets with low kurtosis tend to have a flat top near the mean rather than a sharp peak. \n",
    "\n",
    "\n",
    "#### Reference range for kurtosis\n",
    "-\tThe reference standard is a normal distribution, which has a kurtosis of 3. \n",
    "-\tOften, **excess kurtosis** is presented instead of kurtosis, where **excess kurtosis** is simply **kurtosis - 3**. \n",
    "\n",
    "#### Mesokurtic curve\n",
    "-\tA normal distribution has kurtosis exactly 3 (**excess kurtosis** exactly 0). \n",
    "-\tAny distribution with kurtosis ≈3 (excess ≈ 0) is called **mesokurtic**.\n",
    "\n",
    "#### Platykurtic curve\n",
    "-\tA distribution with kurtosis < 3 (**excess kurtosis** < 0) is called **platykurtic**. \n",
    "-\tAs compared to a normal distribution, its central peak is lower and broader, and its tails are shorter and thinner.\n",
    "\n",
    "#### Leptokurtic curve\n",
    "\n",
    "-\tA distribution with kurtosis > 3 (**excess kurtosis** > 0) is called **leptokurtic**. \n",
    "-\tAs compared to a normal distribution, its central peak is higher and sharper, and its tails are longer and fatter.\n",
    "\n",
    "\n",
    "\n",
    "### Summary\n",
    "\n",
    "\n",
    "So far, we have looked at the measures of central tendency of the data which include `mean`, `median` and `mode`. Also, we have taken a look at measures of spread of the data which consists of `variance`, `standard deviation`, `interquartile range (IQR)`, `minimum` and `maximum` values. We have also discussed `skewness` and `kurtosis` as measures of shape. These quantities can only be used for quantitative variables not for categorical variables.\n"
   ]
  },
  {
   "cell_type": "markdown",
   "metadata": {},
   "source": [
    "## 4. Dataset description\n",
    "\n",
    "\n",
    "I have used the `fortune 500 dataset` for this project. I have downloaded this dataset from the data world website. This data set can be downloaded from the following url –\n",
    "\n",
    "\n",
    "https://data.world/alexandra/fortune-500\n",
    "\n",
    "\n",
    "The data set consists of revenue and profit figures of fortune 500 companies along with their rank.\n"
   ]
  },
  {
   "cell_type": "markdown",
   "metadata": {},
   "source": [
    "## 5. Import libraries"
   ]
  },
  {
   "cell_type": "code",
   "execution_count": 2,
   "metadata": {},
   "outputs": [],
   "source": [
    "import pandas as pd\n",
    "import numpy as np\n",
    "import matplotlib.pyplot as plt\n",
    "import seaborn as sns\n",
    "%matplotlib inline"
   ]
  },
  {
   "cell_type": "markdown",
   "metadata": {},
   "source": [
    "### Ignore warnings"
   ]
  },
  {
   "cell_type": "markdown",
   "metadata": {},
   "source": [
    "## 6. Import dataset"
   ]
  },
  {
   "cell_type": "code",
   "execution_count": 18,
   "metadata": {},
   "outputs": [],
   "source": [
    "df = pd.read_csv(\"F500.csv\")\n"
   ]
  },
  {
   "cell_type": "markdown",
   "metadata": {},
   "source": [
    "## 7. Exploratory data analysis\n",
    "\n",
    "\n",
    "Explore the data to gain insights about the data."
   ]
  },
  {
   "cell_type": "markdown",
   "metadata": {},
   "source": [
    "### View dimensions of dataset"
   ]
  },
  {
   "cell_type": "code",
   "execution_count": 20,
   "metadata": {},
   "outputs": [
    {
     "name": "stdout",
     "output_type": "stream",
     "text": [
      "<bound method DataFrame.info of                           Company  Rank  Year  Revenue (in millions)  \\\n",
      "0      General Motors Corporation     1  1996               168828.6   \n",
      "1              Ford Motor Company     2  1996               137137.0   \n",
      "2               Exxon Corporation     3  1996               110009.0   \n",
      "3           Wal-Mart Stores, Inc.     4  1996                93627.0   \n",
      "4                      AT&T Corp.     5  1996                79609.0   \n",
      "...                           ...   ...   ...                    ...   \n",
      "13935                         KKR   496  2023                 7273.0   \n",
      "13936                     Equinix   497  2023                 7263.0   \n",
      "13937             Sonoco Products   498  2023                 7251.0   \n",
      "13938                  ServiceNow   499  2023                 7245.0   \n",
      "13939   Robert Half International   500  2023                 7238.0   \n",
      "\n",
      "       Profit (in millions)  \n",
      "0                       NaN  \n",
      "1                       NaN  \n",
      "2                       NaN  \n",
      "3                       NaN  \n",
      "4                       NaN  \n",
      "...                     ...  \n",
      "13935                 841.0  \n",
      "13936                 704.0  \n",
      "13937                 466.0  \n",
      "13938                 325.0  \n",
      "13939                 658.0  \n",
      "\n",
      "[13940 rows x 5 columns]>\n",
      "(13940, 5)\n"
     ]
    }
   ],
   "source": [
    "print(df.shape)"
   ]
  },
  {
   "cell_type": "markdown",
   "metadata": {},
   "source": [
    "We can see that there are 13940 instances and 5 variables in the data set."
   ]
  },
  {
   "cell_type": "markdown",
   "metadata": {},
   "source": [
    "### Preview the dataset"
   ]
  },
  {
   "cell_type": "code",
   "execution_count": 40,
   "metadata": {},
   "outputs": [
    {
     "data": {
      "text/html": [
       "<div>\n",
       "<style scoped>\n",
       "    .dataframe tbody tr th:only-of-type {\n",
       "        vertical-align: middle;\n",
       "    }\n",
       "\n",
       "    .dataframe tbody tr th {\n",
       "        vertical-align: top;\n",
       "    }\n",
       "\n",
       "    .dataframe thead th {\n",
       "        text-align: right;\n",
       "    }\n",
       "</style>\n",
       "<table border=\"1\" class=\"dataframe\">\n",
       "  <thead>\n",
       "    <tr style=\"text-align: right;\">\n",
       "      <th></th>\n",
       "      <th>Company</th>\n",
       "      <th>Rank</th>\n",
       "      <th>Year</th>\n",
       "      <th>Revenue (in millions)</th>\n",
       "      <th>Profit (in millions)</th>\n",
       "    </tr>\n",
       "  </thead>\n",
       "  <tbody>\n",
       "    <tr>\n",
       "      <th>0</th>\n",
       "      <td>General Motors Corporation</td>\n",
       "      <td>1</td>\n",
       "      <td>1996</td>\n",
       "      <td>168828.6</td>\n",
       "      <td>NaN</td>\n",
       "    </tr>\n",
       "    <tr>\n",
       "      <th>1</th>\n",
       "      <td>Ford Motor Company</td>\n",
       "      <td>2</td>\n",
       "      <td>1996</td>\n",
       "      <td>137137.0</td>\n",
       "      <td>NaN</td>\n",
       "    </tr>\n",
       "    <tr>\n",
       "      <th>2</th>\n",
       "      <td>Exxon Corporation</td>\n",
       "      <td>3</td>\n",
       "      <td>1996</td>\n",
       "      <td>110009.0</td>\n",
       "      <td>NaN</td>\n",
       "    </tr>\n",
       "    <tr>\n",
       "      <th>3</th>\n",
       "      <td>Wal-Mart Stores, Inc.</td>\n",
       "      <td>4</td>\n",
       "      <td>1996</td>\n",
       "      <td>93627.0</td>\n",
       "      <td>NaN</td>\n",
       "    </tr>\n",
       "    <tr>\n",
       "      <th>4</th>\n",
       "      <td>AT&amp;T Corp.</td>\n",
       "      <td>5</td>\n",
       "      <td>1996</td>\n",
       "      <td>79609.0</td>\n",
       "      <td>NaN</td>\n",
       "    </tr>\n",
       "    <tr>\n",
       "      <th>5</th>\n",
       "      <td>International Business Machines Corporation</td>\n",
       "      <td>6</td>\n",
       "      <td>1996</td>\n",
       "      <td>71940.0</td>\n",
       "      <td>NaN</td>\n",
       "    </tr>\n",
       "    <tr>\n",
       "      <th>6</th>\n",
       "      <td>General Electric Company</td>\n",
       "      <td>7</td>\n",
       "      <td>1996</td>\n",
       "      <td>70028.0</td>\n",
       "      <td>NaN</td>\n",
       "    </tr>\n",
       "    <tr>\n",
       "      <th>7</th>\n",
       "      <td>Mobil Corporation</td>\n",
       "      <td>8</td>\n",
       "      <td>1996</td>\n",
       "      <td>66724.0</td>\n",
       "      <td>NaN</td>\n",
       "    </tr>\n",
       "    <tr>\n",
       "      <th>8</th>\n",
       "      <td>Chrysler Corporation</td>\n",
       "      <td>9</td>\n",
       "      <td>1996</td>\n",
       "      <td>53195.0</td>\n",
       "      <td>NaN</td>\n",
       "    </tr>\n",
       "    <tr>\n",
       "      <th>9</th>\n",
       "      <td>Philip Morris Companies</td>\n",
       "      <td>10</td>\n",
       "      <td>1996</td>\n",
       "      <td>53139.0</td>\n",
       "      <td>NaN</td>\n",
       "    </tr>\n",
       "  </tbody>\n",
       "</table>\n",
       "</div>"
      ],
      "text/plain": [
       "                                       Company  Rank  Year  \\\n",
       "0                   General Motors Corporation     1  1996   \n",
       "1                           Ford Motor Company     2  1996   \n",
       "2                            Exxon Corporation     3  1996   \n",
       "3                        Wal-Mart Stores, Inc.     4  1996   \n",
       "4                                   AT&T Corp.     5  1996   \n",
       "5  International Business Machines Corporation     6  1996   \n",
       "6                     General Electric Company     7  1996   \n",
       "7                            Mobil Corporation     8  1996   \n",
       "8                         Chrysler Corporation     9  1996   \n",
       "9                      Philip Morris Companies    10  1996   \n",
       "\n",
       "   Revenue (in millions)  Profit (in millions)  \n",
       "0               168828.6                   NaN  \n",
       "1               137137.0                   NaN  \n",
       "2               110009.0                   NaN  \n",
       "3                93627.0                   NaN  \n",
       "4                79609.0                   NaN  \n",
       "5                71940.0                   NaN  \n",
       "6                70028.0                   NaN  \n",
       "7                66724.0                   NaN  \n",
       "8                53195.0                   NaN  \n",
       "9                53139.0                   NaN  "
      ]
     },
     "execution_count": 40,
     "metadata": {},
     "output_type": "execute_result"
    }
   ],
   "source": [
    "df.head(10)"
   ]
  },
  {
   "cell_type": "markdown",
   "metadata": {},
   "source": [
    "### View summary of dataset"
   ]
  },
  {
   "cell_type": "code",
   "execution_count": 30,
   "metadata": {},
   "outputs": [
    {
     "name": "stdout",
     "output_type": "stream",
     "text": [
      "<bound method DataFrame.info of                           Company  Rank  Year  Revenue (in millions)  \\\n",
      "0      General Motors Corporation     1  1996               168828.6   \n",
      "1              Ford Motor Company     2  1996               137137.0   \n",
      "2               Exxon Corporation     3  1996               110009.0   \n",
      "3           Wal-Mart Stores, Inc.     4  1996                93627.0   \n",
      "4                      AT&T Corp.     5  1996                79609.0   \n",
      "...                           ...   ...   ...                    ...   \n",
      "13935                         KKR   496  2023                 7273.0   \n",
      "13936                     Equinix   497  2023                 7263.0   \n",
      "13937             Sonoco Products   498  2023                 7251.0   \n",
      "13938                  ServiceNow   499  2023                 7245.0   \n",
      "13939   Robert Half International   500  2023                 7238.0   \n",
      "\n",
      "       Profit (in millions)  \n",
      "0                       NaN  \n",
      "1                       NaN  \n",
      "2                       NaN  \n",
      "3                       NaN  \n",
      "4                       NaN  \n",
      "...                     ...  \n",
      "13935                 841.0  \n",
      "13936                 704.0  \n",
      "13937                 466.0  \n",
      "13938                 325.0  \n",
      "13939                 658.0  \n",
      "\n",
      "[13940 rows x 5 columns]>\n"
     ]
    }
   ],
   "source": [
    "print(df.info)"
   ]
  },
  {
   "cell_type": "markdown",
   "metadata": {},
   "source": [
    "### Observations\n",
    "\n",
    "- We can see that the `Year` and `Rank` variables have integer data types as expected. The `Company` variable is of object data type. \n",
    "\n",
    "- The `Revenue (in millions)` variable is of float data type.\n",
    "\n",
    "- The `Profit (in millions)` variable is of object data type. "
   ]
  },
  {
   "cell_type": "markdown",
   "metadata": {},
   "source": [
    "### Check for missing values df.isnull().sum() "
   ]
  },
  {
   "cell_type": "code",
   "execution_count": 32,
   "metadata": {},
   "outputs": [
    {
     "data": {
      "text/plain": [
       "Company                     0\n",
       "Rank                        0\n",
       "Year                        0\n",
       "Revenue (in millions)       0\n",
       "Profit (in millions)     8443\n",
       "dtype: int64"
      ]
     },
     "execution_count": 32,
     "metadata": {},
     "output_type": "execute_result"
    }
   ],
   "source": [
    "df.isnull().sum()"
   ]
  },
  {
   "cell_type": "markdown",
   "metadata": {},
   "source": [
    "## 8. Descriptive statistics with `describe()` function\n",
    "\n",
    "\n",
    "\n",
    "Descriptive or summary statistics in python – pandas, can be obtained by using the `describe()` function. The `describe()` function gives us the `count`, `mean`, `standard deviation(std)`, `minimum`, `Q1(25%)`, `median(50%)`, `Q3(75%)`, `IQR(Q3 - Q1)` and `maximum` values.\n",
    "\n",
    "\n",
    "I will demonstrate the usage of `describe()` function as follows."
   ]
  },
  {
   "cell_type": "markdown",
   "metadata": {},
   "source": [
    "### Summary statistics of numerical columns"
   ]
  },
  {
   "cell_type": "code",
   "execution_count": 34,
   "metadata": {},
   "outputs": [
    {
     "data": {
      "text/html": [
       "<div>\n",
       "<style scoped>\n",
       "    .dataframe tbody tr th:only-of-type {\n",
       "        vertical-align: middle;\n",
       "    }\n",
       "\n",
       "    .dataframe tbody tr th {\n",
       "        vertical-align: top;\n",
       "    }\n",
       "\n",
       "    .dataframe thead th {\n",
       "        text-align: right;\n",
       "    }\n",
       "</style>\n",
       "<table border=\"1\" class=\"dataframe\">\n",
       "  <thead>\n",
       "    <tr style=\"text-align: right;\">\n",
       "      <th></th>\n",
       "      <th>Rank</th>\n",
       "      <th>Year</th>\n",
       "      <th>Revenue (in millions)</th>\n",
       "      <th>Profit (in millions)</th>\n",
       "    </tr>\n",
       "  </thead>\n",
       "  <tbody>\n",
       "    <tr>\n",
       "      <th>count</th>\n",
       "      <td>13940.000000</td>\n",
       "      <td>13940.000000</td>\n",
       "      <td>13940.000000</td>\n",
       "      <td>5497.000000</td>\n",
       "    </tr>\n",
       "    <tr>\n",
       "      <th>mean</th>\n",
       "      <td>250.511765</td>\n",
       "      <td>2009.537231</td>\n",
       "      <td>20225.158016</td>\n",
       "      <td>2501.271621</td>\n",
       "    </tr>\n",
       "    <tr>\n",
       "      <th>std</th>\n",
       "      <td>144.368022</td>\n",
       "      <td>8.071421</td>\n",
       "      <td>35994.023496</td>\n",
       "      <td>5626.509092</td>\n",
       "    </tr>\n",
       "    <tr>\n",
       "      <th>min</th>\n",
       "      <td>1.000000</td>\n",
       "      <td>1996.000000</td>\n",
       "      <td>48.290000</td>\n",
       "      <td>-12650.000000</td>\n",
       "    </tr>\n",
       "    <tr>\n",
       "      <th>25%</th>\n",
       "      <td>125.000000</td>\n",
       "      <td>2003.000000</td>\n",
       "      <td>5806.225000</td>\n",
       "      <td>390.000000</td>\n",
       "    </tr>\n",
       "    <tr>\n",
       "      <th>50%</th>\n",
       "      <td>250.500000</td>\n",
       "      <td>2010.000000</td>\n",
       "      <td>9587.500000</td>\n",
       "      <td>948.000000</td>\n",
       "    </tr>\n",
       "    <tr>\n",
       "      <th>75%</th>\n",
       "      <td>375.250000</td>\n",
       "      <td>2017.000000</td>\n",
       "      <td>19109.000000</td>\n",
       "      <td>2319.000000</td>\n",
       "    </tr>\n",
       "    <tr>\n",
       "      <th>max</th>\n",
       "      <td>500.000000</td>\n",
       "      <td>2023.000000</td>\n",
       "      <td>611289.000000</td>\n",
       "      <td>99803.000000</td>\n",
       "    </tr>\n",
       "  </tbody>\n",
       "</table>\n",
       "</div>"
      ],
      "text/plain": [
       "               Rank          Year  Revenue (in millions)  Profit (in millions)\n",
       "count  13940.000000  13940.000000           13940.000000           5497.000000\n",
       "mean     250.511765   2009.537231           20225.158016           2501.271621\n",
       "std      144.368022      8.071421           35994.023496           5626.509092\n",
       "min        1.000000   1996.000000              48.290000         -12650.000000\n",
       "25%      125.000000   2003.000000            5806.225000            390.000000\n",
       "50%      250.500000   2010.000000            9587.500000            948.000000\n",
       "75%      375.250000   2017.000000           19109.000000           2319.000000\n",
       "max      500.000000   2023.000000          611289.000000          99803.000000"
      ]
     },
     "execution_count": 34,
     "metadata": {},
     "output_type": "execute_result"
    }
   ],
   "source": [
    "df.describe()"
   ]
  },
  {
   "cell_type": "markdown",
   "metadata": {},
   "source": [
    "We can see that the `describe()` function excludes the character columns and gives summary statistics of numeric columns only."
   ]
  },
  {
   "cell_type": "markdown",
   "metadata": {},
   "source": [
    "### Summary statistics of character columns\n",
    "\n",
    "\n",
    "- The `describe()` function with an argument named `include` along with `value` object(include='object') gives the summary statistics of the character columns."
   ]
  },
  {
   "cell_type": "code",
   "execution_count": 42,
   "metadata": {},
   "outputs": [
    {
     "data": {
      "text/html": [
       "<div>\n",
       "<style scoped>\n",
       "    .dataframe tbody tr th:only-of-type {\n",
       "        vertical-align: middle;\n",
       "    }\n",
       "\n",
       "    .dataframe tbody tr th {\n",
       "        vertical-align: top;\n",
       "    }\n",
       "\n",
       "    .dataframe thead th {\n",
       "        text-align: right;\n",
       "    }\n",
       "</style>\n",
       "<table border=\"1\" class=\"dataframe\">\n",
       "  <thead>\n",
       "    <tr style=\"text-align: right;\">\n",
       "      <th></th>\n",
       "      <th>Company</th>\n",
       "    </tr>\n",
       "  </thead>\n",
       "  <tbody>\n",
       "    <tr>\n",
       "      <th>count</th>\n",
       "      <td>13940</td>\n",
       "    </tr>\n",
       "    <tr>\n",
       "      <th>unique</th>\n",
       "      <td>2255</td>\n",
       "    </tr>\n",
       "    <tr>\n",
       "      <th>top</th>\n",
       "      <td>U.S. Bancorp</td>\n",
       "    </tr>\n",
       "    <tr>\n",
       "      <th>freq</th>\n",
       "      <td>28</td>\n",
       "    </tr>\n",
       "  </tbody>\n",
       "</table>\n",
       "</div>"
      ],
      "text/plain": [
       "             Company\n",
       "count          13940\n",
       "unique          2255\n",
       "top     U.S. Bancorp\n",
       "freq              28"
      ]
     },
     "execution_count": 42,
     "metadata": {},
     "output_type": "execute_result"
    }
   ],
   "source": [
    "df.describe(include='object')"
   ]
  },
  {
   "cell_type": "markdown",
   "metadata": {},
   "source": [
    "### Summary statistics of all the columns\n",
    "\n",
    "\n",
    "- The `describe()` function with include='all' gives the summary statistics of all the columns.\n",
    "\n",
    "\n",
    "- We need to add a variable named include='all' to get the summary statistics or descriptive statistics of both numeric and character columns."
   ]
  },
  {
   "cell_type": "code",
   "execution_count": 44,
   "metadata": {},
   "outputs": [
    {
     "data": {
      "text/html": [
       "<div>\n",
       "<style scoped>\n",
       "    .dataframe tbody tr th:only-of-type {\n",
       "        vertical-align: middle;\n",
       "    }\n",
       "\n",
       "    .dataframe tbody tr th {\n",
       "        vertical-align: top;\n",
       "    }\n",
       "\n",
       "    .dataframe thead th {\n",
       "        text-align: right;\n",
       "    }\n",
       "</style>\n",
       "<table border=\"1\" class=\"dataframe\">\n",
       "  <thead>\n",
       "    <tr style=\"text-align: right;\">\n",
       "      <th></th>\n",
       "      <th>Company</th>\n",
       "      <th>Rank</th>\n",
       "      <th>Year</th>\n",
       "      <th>Revenue (in millions)</th>\n",
       "      <th>Profit (in millions)</th>\n",
       "    </tr>\n",
       "  </thead>\n",
       "  <tbody>\n",
       "    <tr>\n",
       "      <th>count</th>\n",
       "      <td>13940</td>\n",
       "      <td>13940.000000</td>\n",
       "      <td>13940.000000</td>\n",
       "      <td>13940.000000</td>\n",
       "      <td>5497.000000</td>\n",
       "    </tr>\n",
       "    <tr>\n",
       "      <th>unique</th>\n",
       "      <td>2255</td>\n",
       "      <td>NaN</td>\n",
       "      <td>NaN</td>\n",
       "      <td>NaN</td>\n",
       "      <td>NaN</td>\n",
       "    </tr>\n",
       "    <tr>\n",
       "      <th>top</th>\n",
       "      <td>U.S. Bancorp</td>\n",
       "      <td>NaN</td>\n",
       "      <td>NaN</td>\n",
       "      <td>NaN</td>\n",
       "      <td>NaN</td>\n",
       "    </tr>\n",
       "    <tr>\n",
       "      <th>freq</th>\n",
       "      <td>28</td>\n",
       "      <td>NaN</td>\n",
       "      <td>NaN</td>\n",
       "      <td>NaN</td>\n",
       "      <td>NaN</td>\n",
       "    </tr>\n",
       "    <tr>\n",
       "      <th>mean</th>\n",
       "      <td>NaN</td>\n",
       "      <td>250.511765</td>\n",
       "      <td>2009.537231</td>\n",
       "      <td>20225.158016</td>\n",
       "      <td>2501.271621</td>\n",
       "    </tr>\n",
       "    <tr>\n",
       "      <th>std</th>\n",
       "      <td>NaN</td>\n",
       "      <td>144.368022</td>\n",
       "      <td>8.071421</td>\n",
       "      <td>35994.023496</td>\n",
       "      <td>5626.509092</td>\n",
       "    </tr>\n",
       "    <tr>\n",
       "      <th>min</th>\n",
       "      <td>NaN</td>\n",
       "      <td>1.000000</td>\n",
       "      <td>1996.000000</td>\n",
       "      <td>48.290000</td>\n",
       "      <td>-12650.000000</td>\n",
       "    </tr>\n",
       "    <tr>\n",
       "      <th>25%</th>\n",
       "      <td>NaN</td>\n",
       "      <td>125.000000</td>\n",
       "      <td>2003.000000</td>\n",
       "      <td>5806.225000</td>\n",
       "      <td>390.000000</td>\n",
       "    </tr>\n",
       "    <tr>\n",
       "      <th>50%</th>\n",
       "      <td>NaN</td>\n",
       "      <td>250.500000</td>\n",
       "      <td>2010.000000</td>\n",
       "      <td>9587.500000</td>\n",
       "      <td>948.000000</td>\n",
       "    </tr>\n",
       "    <tr>\n",
       "      <th>75%</th>\n",
       "      <td>NaN</td>\n",
       "      <td>375.250000</td>\n",
       "      <td>2017.000000</td>\n",
       "      <td>19109.000000</td>\n",
       "      <td>2319.000000</td>\n",
       "    </tr>\n",
       "    <tr>\n",
       "      <th>max</th>\n",
       "      <td>NaN</td>\n",
       "      <td>500.000000</td>\n",
       "      <td>2023.000000</td>\n",
       "      <td>611289.000000</td>\n",
       "      <td>99803.000000</td>\n",
       "    </tr>\n",
       "  </tbody>\n",
       "</table>\n",
       "</div>"
      ],
      "text/plain": [
       "             Company          Rank          Year  Revenue (in millions)  \\\n",
       "count          13940  13940.000000  13940.000000           13940.000000   \n",
       "unique          2255           NaN           NaN                    NaN   \n",
       "top     U.S. Bancorp           NaN           NaN                    NaN   \n",
       "freq              28           NaN           NaN                    NaN   \n",
       "mean             NaN    250.511765   2009.537231           20225.158016   \n",
       "std              NaN    144.368022      8.071421           35994.023496   \n",
       "min              NaN      1.000000   1996.000000              48.290000   \n",
       "25%              NaN    125.000000   2003.000000            5806.225000   \n",
       "50%              NaN    250.500000   2010.000000            9587.500000   \n",
       "75%              NaN    375.250000   2017.000000           19109.000000   \n",
       "max              NaN    500.000000   2023.000000          611289.000000   \n",
       "\n",
       "        Profit (in millions)  \n",
       "count            5497.000000  \n",
       "unique                   NaN  \n",
       "top                      NaN  \n",
       "freq                     NaN  \n",
       "mean             2501.271621  \n",
       "std              5626.509092  \n",
       "min            -12650.000000  \n",
       "25%               390.000000  \n",
       "50%               948.000000  \n",
       "75%              2319.000000  \n",
       "max             99803.000000  "
      ]
     },
     "execution_count": 44,
     "metadata": {},
     "output_type": "execute_result"
    }
   ],
   "source": [
    "df.describe(include='all')"
   ]
  },
  {
   "cell_type": "markdown",
   "metadata": {},
   "source": [
    "## 9. Computation of measures of central tendency \n",
    "\n",
    "\n",
    "- In this section, I will compute the measures of central tendency - mean, median and mode. \n",
    "\n",
    "- These statistics give us a approximate value of the middle of a numeric variable.\n",
    "\n",
    "- I will use the `Revenue (in millions)` variable for calculations."
   ]
  },
  {
   "cell_type": "markdown",
   "metadata": {},
   "source": [
    "### Mean"
   ]
  },
  {
   "cell_type": "code",
   "execution_count": 50,
   "metadata": {},
   "outputs": [
    {
     "name": "stdout",
     "output_type": "stream",
     "text": [
      "20225.158015781923\n"
     ]
    }
   ],
   "source": [
    "print(df['Revenue (in millions)'].mean())\n"
   ]
  },
  {
   "cell_type": "markdown",
   "metadata": {},
   "source": [
    "### Median"
   ]
  },
  {
   "cell_type": "code",
   "execution_count": 52,
   "metadata": {},
   "outputs": [
    {
     "name": "stdout",
     "output_type": "stream",
     "text": [
      "9587.5\n"
     ]
    }
   ],
   "source": [
    "print(df['Revenue (in millions)'].median())\n"
   ]
  },
  {
   "cell_type": "markdown",
   "metadata": {},
   "source": [
    "### Mode"
   ]
  },
  {
   "cell_type": "code",
   "execution_count": 54,
   "metadata": {},
   "outputs": [
    {
     "name": "stdout",
     "output_type": "stream",
     "text": [
      "0    5810.0\n",
      "1    5853.0\n",
      "2    6691.0\n",
      "3    9061.0\n",
      "Name: Revenue (in millions), dtype: float64\n"
     ]
    }
   ],
   "source": [
    "print(df['Revenue (in millions)'].mode())\n"
   ]
  },
  {
   "cell_type": "markdown",
   "metadata": {},
   "source": [
    "### Observation\n",
    "\n",
    "\n",
    "- We can see that `mean > median > mode`. So, the distribution of `Revenue (in millions)` is positively skewed. I will plot its distribution to confirm the same."
   ]
  },
  {
   "cell_type": "markdown",
   "metadata": {},
   "source": [
    "### Plot the distribution "
   ]
  },
  {
   "cell_type": "code",
   "execution_count": 80,
   "metadata": {},
   "outputs": [
    {
     "name": "stderr",
     "output_type": "stream",
     "text": [
      "C:\\Users\\priya\\AppData\\Local\\Temp\\ipykernel_33020\\818651627.py:3: UserWarning: \n",
      "\n",
      "`distplot` is a deprecated function and will be removed in seaborn v0.14.0.\n",
      "\n",
      "Please adapt your code to use either `displot` (a figure-level function with\n",
      "similar flexibility) or `histplot` (an axes-level function for histograms).\n",
      "\n",
      "For a guide to updating your code to use the new functions, please see\n",
      "https://gist.github.com/mwaskom/de44147ed2974457ad6372750bbe5751\n",
      "\n",
      "  sns.distplot(data, bins=10, hist=True, kde=True, label='Revenue (in millions)')\n"
     ]
    },
    {
     "data": {
      "text/plain": [
       "<Axes: xlabel='Revenue (in millions)', ylabel='Density'>"
      ]
     },
     "execution_count": 80,
     "metadata": {},
     "output_type": "execute_result"
    },
    {
     "data": {
      "image/png": "[encoded data removed]",
      "text/plain": [
       "<Figure size 640x480 with 1 Axes>"
      ]
     },
     "metadata": {},
     "output_type": "display_data"
    }
   ],
   "source": [
    "data = df['Revenue (in millions)']\n",
    "\n",
    "sns.distplot(data, bins=10, hist=True, kde=True, label='Revenue (in millions)')"
   ]
  },
  {
   "cell_type": "markdown",
   "metadata": {},
   "source": [
    "The above plot confirms that the `Revenue (in millions)` is positively skewed."
   ]
  },
  {
   "cell_type": "markdown",
   "metadata": {},
   "source": [
    "## 10. Computation of measures of dispersion or variability\n",
    "\n",
    "\n",
    "- In this section, we will compute the measures of dispersion or variability - minimum and maximum values, range, variance, standard-deviation, IQR. \n",
    "\n",
    "- Again, we will use the `Revenue (in millions)` variable for calculations.\n"
   ]
  },
  {
   "cell_type": "markdown",
   "metadata": {},
   "source": [
    "### Minimum value"
   ]
  },
  {
   "cell_type": "code",
   "execution_count": 56,
   "metadata": {},
   "outputs": [
    {
     "name": "stdout",
     "output_type": "stream",
     "text": [
      "48.29\n"
     ]
    }
   ],
   "source": [
    "print(df['Revenue (in millions)'].min())"
   ]
  },
  {
   "cell_type": "markdown",
   "metadata": {},
   "source": [
    "### Maximum value"
   ]
  },
  {
   "cell_type": "code",
   "execution_count": 58,
   "metadata": {},
   "outputs": [
    {
     "name": "stdout",
     "output_type": "stream",
     "text": [
      "611289.0\n"
     ]
    }
   ],
   "source": [
    "print(df['Revenue (in millions)'].max())"
   ]
  },
  {
   "cell_type": "markdown",
   "metadata": {},
   "source": [
    "### Range"
   ]
  },
  {
   "cell_type": "code",
   "execution_count": 78,
   "metadata": {},
   "outputs": [
    {
     "name": "stdout",
     "output_type": "stream",
     "text": [
      "48.29 - 611289.0\n"
     ]
    }
   ],
   "source": [
    "print(df['Revenue (in millions)'].min(),'-',df['Revenue (in millions)'].max())"
   ]
  },
  {
   "cell_type": "markdown",
   "metadata": {},
   "source": [
    "### Variance"
   ]
  },
  {
   "cell_type": "code",
   "execution_count": 82,
   "metadata": {},
   "outputs": [
    {
     "name": "stdout",
     "output_type": "stream",
     "text": [
      "1295569727.4622889\n"
     ]
    }
   ],
   "source": [
    "print(df['Revenue (in millions)'].var())"
   ]
  },
  {
   "cell_type": "markdown",
   "metadata": {},
   "source": [
    "### Standard deviation"
   ]
  },
  {
   "cell_type": "code",
   "execution_count": 84,
   "metadata": {},
   "outputs": [
    {
     "name": "stdout",
     "output_type": "stream",
     "text": [
      "35994.0234964402\n"
     ]
    }
   ],
   "source": [
    "print(df['Revenue (in millions)'].std())"
   ]
  },
  {
   "cell_type": "markdown",
   "metadata": {},
   "source": [
    "### Median (Q2 or 50th percentile) Q2 = df['Revenue (in millions)'].quantile(0.5)"
   ]
  },
  {
   "cell_type": "code",
   "execution_count": 96,
   "metadata": {},
   "outputs": [
    {
     "name": "stdout",
     "output_type": "stream",
     "text": [
      "9587.5\n"
     ]
    }
   ],
   "source": [
    "print(df['Revenue (in millions)'].quantile(0.5))\n",
    "Q2=df['Revenue (in millions)'].quantile(0.5)\n"
   ]
  },
  {
   "cell_type": "markdown",
   "metadata": {},
   "source": [
    "### Q3 or 75th percentile"
   ]
  },
  {
   "cell_type": "code",
   "execution_count": 98,
   "metadata": {},
   "outputs": [
    {
     "name": "stdout",
     "output_type": "stream",
     "text": [
      "19109.0\n"
     ]
    }
   ],
   "source": [
    "print(df['Revenue (in millions)'].quantile(0.75))\n",
    "Q3=df['Revenue (in millions)'].quantile(0.75)"
   ]
  },
  {
   "cell_type": "markdown",
   "metadata": {},
   "source": [
    "### Q1 or 25th percentile"
   ]
  },
  {
   "cell_type": "code",
   "execution_count": 100,
   "metadata": {},
   "outputs": [
    {
     "name": "stdout",
     "output_type": "stream",
     "text": [
      "5806.225\n"
     ]
    }
   ],
   "source": [
    "print(df['Revenue (in millions)'].quantile(0.25))\n",
    "Q1=df['Revenue (in millions)'].quantile(0.25)"
   ]
  },
  {
   "cell_type": "markdown",
   "metadata": {},
   "source": [
    "### Interquartile Range\n"
   ]
  },
  {
   "cell_type": "code",
   "execution_count": 102,
   "metadata": {},
   "outputs": [
    {
     "data": {
      "text/plain": [
       "13302.775"
      ]
     },
     "execution_count": 102,
     "metadata": {},
     "output_type": "execute_result"
    }
   ],
   "source": [
    "IQR = Q3  - Q1\n",
    "\n",
    "IQR"
   ]
  },
  {
   "cell_type": "markdown",
   "metadata": {},
   "source": [
    "### Draw boxplot"
   ]
  },
  {
   "cell_type": "code",
   "execution_count": 104,
   "metadata": {},
   "outputs": [
    {
     "data": {
      "image/png": "[encoded data removed]",
      "text/plain": [
       "<Figure size 640x480 with 1 Axes>"
      ]
     },
     "metadata": {},
     "output_type": "display_data"
    }
   ],
   "source": [
    "plt.boxplot(df['Revenue (in millions)'])\n",
    "\n",
    "plt.show()"
   ]
  },
  {
   "cell_type": "markdown",
   "metadata": {},
   "source": [
    "## 11. Computation of measures of shape of distribution\n",
    "\n",
    "\n",
    "- In this section, we will compute the measures of shape of distribution - skewness and kurtosis. \n",
    "\n",
    "- Again, we will use the `Revenue (in millions)` variable for calculations.\n"
   ]
  },
  {
   "cell_type": "markdown",
   "metadata": {},
   "source": [
    "### Skewness\n"
   ]
  },
  {
   "cell_type": "code",
   "execution_count": 106,
   "metadata": {},
   "outputs": [
    {
     "name": "stdout",
     "output_type": "stream",
     "text": [
      "6.355594826690244\n"
     ]
    }
   ],
   "source": [
    "print(df['Revenue (in millions)'].skew())"
   ]
  },
  {
   "cell_type": "markdown",
   "metadata": {},
   "source": [
    "### Interpretation\n",
    "\n",
    "The skewness to be 6.3555. So, it is greater than 1. Hence, we can conclude that the `Revenue (in millions)` data is highly skewed."
   ]
  },
  {
   "cell_type": "markdown",
   "metadata": {},
   "source": [
    "### Kurtosis"
   ]
  },
  {
   "cell_type": "code",
   "execution_count": 108,
   "metadata": {},
   "outputs": [
    {
     "name": "stdout",
     "output_type": "stream",
     "text": [
      "60.28831785450257\n"
     ]
    }
   ],
   "source": [
    "print(df['Revenue (in millions)'].kurtosis())"
   ]
  },
  {
   "cell_type": "markdown",
   "metadata": {},
   "source": [
    "### Interpretation\n",
    "\n",
    " kurtosis to be 60.28 . So, it is greater than 3 and so excess kurtosis > 0. Hence, we can conclude that the `Revenue (in millions)` curve is a leptokurtic curve. As compared to a normal distribution, its central peak is higher and sharper, and its tails are longer and fatter."
   ]
  },
  {
   "cell_type": "markdown",
   "metadata": {},
   "source": [
    "# Income-Expenditure Dataset\n",
    "\n",
    "## 1. Income & Expenditure\n",
    "### What is the **mean, median, and mode** of `Mthly_HH_Income`?  \n",
    "###  Compare the **mean and median** of `Mthly_HH_Expense`. What does this tell you about expenditure distribution?  \n",
    "### Find the **range** of monthly household income.  \n",
    "### Which household has the **highest income-to-expense ratio**?  \n",
    "\n",
    "\n",
    "\n",
    "## 2. Family Structure\n",
    "### What is the **average number of family members** per household?  \n",
    "###  Find the **standard deviation** of `No_of_Fly_Members`. Is family size consistent across households?  \n",
    "###  Compare `No_of_Earning_Members` with `No_of_Fly_Members`. Which household has the **highest dependency ratio** (non-earning ÷ total members)?  \n",
    "\n",
    "\n",
    "\n",
    "## 3. Housing & EMI\n",
    "###  What is the **average EMI or rent amount** as a percentage of monthly income?  \n",
    "###  Identify households where `Emi_or_Rent_Amt` exceeds **40% of `Mthly_HH_Income`**.  \n",
    "### Which household has the **lowest disposable income** (`Mthly_HH_Income - Mthly_HH_Expense - Emi_or_Rent_Amt`)?  \n",
    "\n",
    "\n",
    "\n",
    "## 4. Annual Income & Qualification\n",
    "###  Verify whether `Annual_HH_Income` is consistent with `Mthly_HH_Income × 12`. If not, identify discrepancies.  \n",
    "### Group households by `Highest_Qualified_Member` (e.g., Graduate, Postgraduate, PhD). What is the **average monthly income** in each group?  \n",
    "### Does **higher qualification** correlate with **higher household income**? Support with mean/median values.  \n",
    "\n",
    "\n",
    "\n",
    "## 5. Outliers & Correlation\n",
    "### Detect **outliers** in `Mthly_HH_Income` using the **Z-score method**.  \n",
    "###  Compute the **correlation** between `Mthly_HH_Income` and `Mthly_HH_Expense`. Is the relationship strong?  \n",
    "###  Is there a significant correlation between `No_of_Earning_Members` and `Mthly_HH_Income`?  \n"
   ]
  },
  {
   "cell_type": "code",
   "execution_count": null,
   "metadata": {},
   "outputs": [],
   "source": []
  }
 ],
 "metadata": {
  "kernelspec": {
   "display_name": "Python 3 (ipykernel)",
   "language": "python",
   "name": "python3"
  },
  "language_info": {
   "codemirror_mode": {
    "name": "ipython",
    "version": 3
   },
   "file_extension": ".py",
   "mimetype": "text/x-python",
   "name": "python",
   "nbconvert_exporter": "python",
   "pygments_lexer": "ipython3",
   "version": "3.12.4"
  }
 },
 "nbformat": 4,
 "nbformat_minor": 4
}
