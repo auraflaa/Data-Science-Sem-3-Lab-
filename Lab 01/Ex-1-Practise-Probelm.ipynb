{
 "cells": [
  {
   "cell_type": "code",
   "execution_count": 5,
   "metadata": {
    "id": "iZTaT_aIDoRP"
   },
   "outputs": [
    {
     "name": "stdout",
     "output_type": "stream",
     "text": [
      "Fetching job data from the RemoteOK API...\n",
      "Successfully collected 95 job listings.\n",
      "Data successfully saved to remoteok_jobs.csv\n",
      "\n",
      "--- Process Complete ---\n"
     ]
    }
   ],
   "source": [
    "## 🧪 Lab Task: Data Collection from RemoteOK\n",
    "\n",
    "#As a data scientist, the first step in any project is to collect relevant and structured data. In this exercise, your task is to extract job-related information from the RemoteOK job website: [https://remoteok.com/r](https://remoteok.com/r).\n",
    "\n",
    "### 🎯 Objectives:\n",
    "#- Collect the following data fields for each job posting:\n",
    " # - **Company Name**\n",
    "  #- **Job Role**\n",
    "  #- **Location**\n",
    "  #- **Features or Tags** (e.g., technologies, benefits, job type)\n",
    "\n",
    "### 🛠 Instructions:\n",
    "#- Use Python along with libraries such as `requests`, `pandas`, and optionally `json` or `BeautifulSoup` if needed.\n",
    "#- Retrieve the job data from the RemoteOK API or web page.\n",
    "#- Parse the JSON or HTML response to extract the required fields.\n",
    "#- Store the collected data in a structured format such as **CSV** for future analysis.\n",
    "\n",
    "### 📦 Output:\n",
    "#A CSV file (e.g., `remoteok_jobs.csv`) containing all extracted job listings with the specified fields.\n",
    "\n",
    "#> ✅ This dataset will serve as the foundation for further data analysis and machine learning tasks in upcoming lab exercises.\n",
    "\n",
    "\n",
    "# To run this script, you need to install the following libraries:\n",
    "# pip install requests beautifulsoup4\n",
    "\n",
    "import requests\n",
    "import pandas as pd\n",
    "\n",
    "api_url = \"https://remoteok.com/api\"\n",
    "all_jobs_data = []\n",
    "print(\"Fetching job data from the RemoteOK API...\")\n",
    "\n",
    "try:\n",
    "    response = requests.get(api_url)\n",
    "    response.raise_for_status()\n",
    "    job_listings = response.json()[1:]\n",
    "    for job in job_listings:\n",
    "        company = job.get(\"company\", \"N/A\")\n",
    "        role = job.get(\"position\", \"N/A\")\n",
    "        location = job.get(\"location\", \"Worldwide\")\n",
    "        tags_list = job.get(\"tags\", [])\n",
    "        tags = \", \".join(tags_list)\n",
    "\n",
    "        all_jobs_data.append({\n",
    "            \"Company Name\": company,\n",
    "            \"Job Role\": role,\n",
    "            \"Location\": location,\n",
    "            \"Tags\": tags\n",
    "        })\n",
    "    print(f\"Successfully collected {len(all_jobs_data)} job listings.\")\n",
    "\n",
    "except requests.exceptions.RequestException as e:\n",
    "    print(f\"An error occurred while fetching data: {e}\")\n",
    "\n",
    "if all_jobs_data:\n",
    "    df = pd.DataFrame(all_jobs_data)\n",
    "    df.to_csv('remoteok_jobs.csv', index=False, encoding='utf-8')\n",
    "    print(\"Data successfully saved to remoteok_jobs.csv\")\n",
    "else:\n",
    "    print(\"No data was collected. CSV file not created.\")\n",
    "\n",
    "print(\"\\n--- Process Complete ---\")"
   ]
  },
  {
   "cell_type": "code",
   "execution_count": null,
   "metadata": {},
   "outputs": [],
   "source": []
  }
 ],
 "metadata": {
  "colab": {
   "provenance": []
  },
  "kernelspec": {
   "display_name": "Python 3 (ipykernel)",
   "language": "python",
   "name": "python3"
  },
  "language_info": {
   "codemirror_mode": {
    "name": "ipython",
    "version": 3
   },
   "file_extension": ".py",
   "mimetype": "text/x-python",
   "name": "python",
   "nbconvert_exporter": "python",
   "pygments_lexer": "ipython3",
   "version": "3.12.4"
  }
 },
 "nbformat": 4,
 "nbformat_minor": 4
}
